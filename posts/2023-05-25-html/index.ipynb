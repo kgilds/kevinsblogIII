{
  "cells": [
    {
      "cell_type": "raw",
      "metadata": {},
      "source": [
        "---\n",
        "title: \"HTML\"\n",
        "description: |\n",
        "  The img tag\n",
        "author: Kevn Gilds, MPA\n",
        "categories:\n",
        "  -html\n",
        "  -img\n",
        "  -freecodecamp\n",
        "date: 2023-05-25\n",
        "---"
      ],
      "id": "e4afd2d5"
    },
    {
      "cell_type": "markdown",
      "metadata": {},
      "source": [
        "I have been working on the *Responsive Web Design* course from freeCodeCamp.\n",
        "\n",
        "I seem to always have to look up the img tag.\n",
        "\n",
        "\n",
        "```{html, eval=FALSE}\n",
        "\n",
        "<img id=\"logo\" src=\"https://cdn.freecodecamp.org/platform/universal/fcc_primary.svg\">\n",
        "\n",
        "\n",
        "```\n",
        "\n",
        "\n",
        "The attributes of the img element are as follows:\n",
        "\n",
        "-   src\n",
        "\n",
        "-   alt\n",
        "\n",
        "This example does not have the alt attribute.\n",
        "\n",
        "Below is the css to manipulate the size of the image.\n",
        "\n",
        "\n",
        "```{css, eval= FALSE}\n",
        "body {\n",
        "  background: #f5f6f7;\n",
        "  color: #1b1b32;\n",
        "  font-family: Helvetica;\n",
        "  margin: 0;\n",
        "}\n",
        "\n",
        "header {\n",
        "  width: 100%;\n",
        "  height: 50px;\n",
        "  background-color: #1b1b32;\n",
        "  display: flex;\n",
        "}\n",
        "\n",
        "#logo {\n",
        "  width: max(100px, 18vw);\n",
        "  background-color: #0a0a23;\n",
        "  aspect-ratio: 35 / 4;\n",
        "  padding: 0.4rem;\n",
        "}\n",
        "```"
      ],
      "id": "87692981"
    }
  ],
  "metadata": {
    "kernelspec": {
      "display_name": "Python 3",
      "language": "python",
      "name": "python3"
    }
  },
  "nbformat": 4,
  "nbformat_minor": 5
}